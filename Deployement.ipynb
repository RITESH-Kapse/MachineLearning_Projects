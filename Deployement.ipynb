{
 "cells": [
  {
   "cell_type": "markdown",
   "metadata": {},
   "source": [
    "Now we will be using a Python based web framework called web2py for building APIs and VueJS for building reactive HTML front-end"
   ]
  },
  {
   "cell_type": "markdown",
   "metadata": {},
   "source": [
    "Web2py inherently supports MVC (Model View Controller) architecture.\n",
    "\n",
    "Models: define database schema and validations\n",
    "\n",
    "Views: hosts your HTML code\n",
    "\n",
    "Controllers: Python code where you will write business logic and manages interactions between front-end and the database."
   ]
  },
  {
   "cell_type": "markdown",
   "metadata": {},
   "source": [
    "Even though MVC is a good architectural pattern, the world has moved on to using micro-services architecture so that our front-end is independent of the controller logic (mostly)"
   ]
  },
  {
   "cell_type": "markdown",
   "metadata": {},
   "source": [
    "Right now, we will be focusing only on the controllers where we will build our APIs"
   ]
  },
  {
   "cell_type": "markdown",
   "metadata": {},
   "source": [
    "Reference :\n",
    "\n",
    "    Build Backend API\n",
    "    https://medium.com/code-heroku/how-to-turn-your-machine-learning-scripts-into-projects-you-can-demo-cbc5611ca442\n",
    "    \n",
    "    FrontEnd UI using Vue \n",
    "    https://medium.com/code-heroku/part-2-how-to-turn-your-machine-learning-scripts-into-projects-you-can-demo-467b3acff041"
   ]
  },
  {
   "cell_type": "markdown",
   "metadata": {},
   "source": [
    "# Step 1 : Download web2py folder and item_similarity_df.csv files #"
   ]
  },
  {
   "cell_type": "markdown",
   "metadata": {},
   "source": [
    "# Step 2 : Go to web2py folder from conda promt and type 'python web2py.py' and hit enter #\n",
    "\n",
    "Location for me :\n",
    "C:\\Users\\Admin\\Documents\\SelfDrivingCarND\\MovieRecommemdation\\dataset\\CreatingWebUI\\web2py"
   ]
  },
  {
   "cell_type": "markdown",
   "metadata": {},
   "source": [
    "# Step 3 : Select server Ip as local and select any pwd #"
   ]
  },
  {
   "cell_type": "markdown",
   "metadata": {},
   "source": [
    "# Step 4 : Login to admin at browser and create project #\n",
    "\n",
    "Location : http://127.0.0.1:8000/admin/default/design/movies#"
   ]
  },
  {
   "cell_type": "markdown",
   "metadata": {},
   "source": [
    "# Step 5 : Open webpy folder inside atom/visualcode/pycharm and keep your csv file here #\n",
    "Location (local):C:\\Users\\Admin\\Documents\\SelfDrivingCarND\\MovieRecommemdation\\dataset\\CreatingWebUI\\web2py\\applications\\movies\\static"
   ]
  },
  {
   "cell_type": "markdown",
   "metadata": {},
   "source": [
    "# Step 6 : Write your code inside controller section wrt below location #\n",
    "Location : C:\\Users\\Admin\\Documents\\SelfDrivingCarND\\MovieRecommemdation\\dataset\\CreatingWebUI\\web2py\\applications\\movies\\controllers\n",
    "\n",
    "File :default.py"
   ]
  },
  {
   "cell_type": "code",
   "execution_count": 5,
   "metadata": {},
   "outputs": [],
   "source": [
    "# Step 7: Code in default.py\n",
    "\n",
    "\n",
    "import pandas as pd\n",
    "\n",
    "from gluon.tools import Service\n",
    "service = Service()\n",
    "\n",
    "def call():   \n",
    "    return service()\n",
    "\n",
    "  \n",
    "def load_recommendations(): \n",
    "    item_similarity_df = pd.read_csv(\"applications/movies/static/item_similarity_df.csv\",index_col=0)\n",
    "    print(\"item_similarity_df cached in memory\")\n",
    "    return item_similarity_df \n",
    "\n",
    "item_similarity_df = cache.ram('item_similarity_df3',load_recommendations,None) \n",
    "print(item_similarity_df.head())    \n",
    "\n",
    "@service.json\n",
    "##helper method that doesn't recommend a movie if the user has already seen it\n",
    "def check_seen(recommended_movie,watched_movies):\n",
    "    for movie_id,movie in watched_movies.items():\n",
    "        if recommended_movie == movie[\"title\"]:\n",
    "            return True\n",
    "    return False\n",
    "\n",
    "def get_similar_movies(movie_name,user_rating):\n",
    "    try:\n",
    "        similar_score = item_similarity_df[movie_name]*(user_rating-2.5)\n",
    "        similar_movies = similar_score.sort_values(ascending=False)\n",
    "    except:\n",
    "        print(\"don't have movie in model\")\n",
    "        similar_movies = pd.Series([])\n",
    "    \n",
    "    return similar_movies\n",
    "\n",
    "\n",
    "@service.json\n",
    "def get_recommendations(watched_movies):\n",
    "\n",
    "    print(watched_movies)\n",
    "    similar_movies = pd.DataFrame()\n",
    "\n",
    "    for movie_id,movie in watched_movies.items():\n",
    "        similar_movies = similar_movies.append(get_similar_movies(movie[\"title\"],movie[\"rating\"]),ignore_index=True)\n",
    "\n",
    "    all_recommend = similar_movies.sum().sort_values(ascending=False)\n",
    "\n",
    "    recommended_movies = []\n",
    "    for movie,score in all_recommend.iteritems():\n",
    "        if not check_seen(movie,watched_movies):\n",
    "            recommended_movies.append(movie)    \n",
    "\n",
    "    if len(recommended_movies) > 100:\n",
    "        recommended_movies = recommended_movies[0:100]        \n",
    "\n",
    "    return recommended_movies"
   ]
  },
  {
   "cell_type": "markdown",
   "metadata": {},
   "source": [
    "Since we do not want to load the data frame every time someone uses our app we will cache it using web2py’s cache.ram method."
   ]
  },
  {
   "cell_type": "markdown",
   "metadata": {},
   "source": [
    "# Test your api here #\n",
    "\n",
    "http://127.0.0.1:8000/movies/static/test.html"
   ]
  },
  {
   "cell_type": "markdown",
   "metadata": {},
   "source": [
    "Now since , we can see the data , next step is to design the frontend using Vue and html"
   ]
  },
  {
   "cell_type": "code",
   "execution_count": null,
   "metadata": {},
   "outputs": [],
   "source": []
  },
  {
   "cell_type": "code",
   "execution_count": null,
   "metadata": {},
   "outputs": [],
   "source": []
  },
  {
   "cell_type": "code",
   "execution_count": null,
   "metadata": {},
   "outputs": [],
   "source": []
  },
  {
   "cell_type": "markdown",
   "metadata": {},
   "source": [
    "Download the posters (opensource ) from here :\n",
    "    https://github.com/babu-thomas/movielens-posters"
   ]
  },
  {
   "cell_type": "code",
   "execution_count": null,
   "metadata": {},
   "outputs": [],
   "source": []
  },
  {
   "cell_type": "markdown",
   "metadata": {},
   "source": [
    "Check your output :\n",
    "    http://127.0.0.1:8000/movies/static/movies/index.htmlhttp://127.0.0.1:8000/movies/static/movies/index.html"
   ]
  },
  {
   "cell_type": "code",
   "execution_count": null,
   "metadata": {},
   "outputs": [],
   "source": []
  },
  {
   "cell_type": "code",
   "execution_count": null,
   "metadata": {},
   "outputs": [],
   "source": []
  }
 ],
 "metadata": {
  "kernelspec": {
   "display_name": "Python 3",
   "language": "python",
   "name": "python3"
  },
  "language_info": {
   "codemirror_mode": {
    "name": "ipython",
    "version": 3
   },
   "file_extension": ".py",
   "mimetype": "text/x-python",
   "name": "python",
   "nbconvert_exporter": "python",
   "pygments_lexer": "ipython3",
   "version": "3.7.9"
  }
 },
 "nbformat": 4,
 "nbformat_minor": 4
}
